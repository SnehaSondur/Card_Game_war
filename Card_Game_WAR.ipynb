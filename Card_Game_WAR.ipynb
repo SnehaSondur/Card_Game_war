{
 "cells": [
  {
   "cell_type": "code",
   "execution_count": 44,
   "id": "e30b194b",
   "metadata": {},
   "outputs": [],
   "source": [
    "import random\n",
    "#Initial block of code declaring global variable:\n",
    "\n",
    "suits = ('Hearts', 'Diamonds', 'Spades', 'Clubs')\n",
    "ranks = ('Two', 'Three', 'Four', 'Five', 'Six', 'Seven', 'Eight', 'Nine', 'Ten', 'Jack', 'Queen', 'King', 'Ace')\n",
    "values = {'Two':2, 'Three':3, 'Four':4, 'Five':5, 'Six':6, 'Seven':7, 'Eight':8, \n",
    "            'Nine':9, 'Ten':10, 'Jack':11, 'Queen':12, 'King':13, 'Ace':14}"
   ]
  },
  {
   "cell_type": "code",
   "execution_count": 45,
   "id": "4e09d968",
   "metadata": {},
   "outputs": [],
   "source": [
    "#Class card has three attributes: rank, suit and value. \n",
    "class Card():\n",
    "    def __init__(self,rank,suit):\n",
    "        self.rank=rank.title()\n",
    "        if  suit[-1]=='s':\n",
    "            self.suit=suit.title()\n",
    "        else:\n",
    "            suit=suit+'s'\n",
    "            self.suit=suit.title()\n",
    "        self.value=values[self.rank]\n",
    "        \n",
    "    def __str__(self):\n",
    "        return self.rank+' of '+self.suit"
   ]
  },
  {
   "cell_type": "code",
   "execution_count": 46,
   "id": "17b7128d",
   "metadata": {},
   "outputs": [],
   "source": [
    "class Deck():\n",
    "    #Empty list for new deck\n",
    "\n",
    "    def __init__(self):\n",
    "        self.new_card_deck=[] \n",
    "        for every_suit in suits:\n",
    "            for every_rank in ranks:\n",
    "                self.new_card_deck.append(Card(every_rank,every_suit))\n",
    "\n",
    "    def __str__(self):\n",
    "        print_deck=''\n",
    "        for a in range(0,len(self.new_card_deck)):\n",
    "            print_deck=print_deck+'\\n'+str(a+1)+':'+str(self.new_card_deck[a])\n",
    "        return print_deck\n",
    "    \n",
    "    def deck_shuffle(self):\n",
    "        random.shuffle(self.new_card_deck)\n",
    "        \n",
    "    def deck_deal_one(self):\n",
    "        return self.new_card_deck.pop()\n",
    "        \n",
    "        \n"
   ]
  },
  {
   "cell_type": "code",
   "execution_count": 47,
   "id": "6146f58d",
   "metadata": {},
   "outputs": [],
   "source": [
    "class Player():\n",
    "    \n",
    "    def __init__(self,playername):\n",
    "        self.playername=playername\n",
    "        self.player_cards=[]\n",
    "        \n",
    "    def remove_one(self):\n",
    "        return self.player_cards.pop(0)\n",
    "    \n",
    "    \n",
    "    def add_cards(self,add_cards):\n",
    "        if type(add_cards)== type([]):\n",
    "            self.player_cards.extend(add_cards)\n",
    "        else:\n",
    "            self.player_cards.append(add_cards)\n",
    "            \n",
    "    def __str__(self):\n",
    "        return f'{self.playername} has {len(self.player_cards)}'\n",
    "            "
   ]
  },
  {
   "cell_type": "code",
   "execution_count": 48,
   "id": "ad1bbd5c",
   "metadata": {},
   "outputs": [
    {
     "name": "stdout",
     "output_type": "stream",
     "text": [
      "Enter name of player 1: Player1\n",
      "Enter name of player 2: Player2\n"
     ]
    }
   ],
   "source": [
    "#Game setup\n",
    "p1=input('Enter name of player 1: ')\n",
    "p2=input('Enter name of player 2: ')\n",
    "player1=Player(p1)\n",
    "player2=Player(p2)\n",
    "\n"
   ]
  },
  {
   "cell_type": "code",
   "execution_count": 49,
   "id": "553ca3f7",
   "metadata": {},
   "outputs": [
    {
     "name": "stdout",
     "output_type": "stream",
     "text": [
      "Game on!!\n",
      "Player1 has 26\n",
      "Player2 has 26\n"
     ]
    }
   ],
   "source": [
    "#Get a new deck\n",
    "\n",
    "new_deck_game=Deck()\n",
    "new_deck_game.deck_shuffle()\n",
    "\n",
    "#Split the deck:\n",
    "\n",
    "for n in range(26):\n",
    "    player1.add_cards(new_deck_game.deck_deal_one())\n",
    "    player2.add_cards(new_deck_game.deck_deal_one())\n",
    "\n",
    "print('Game on!!')\n",
    "print(player1)\n",
    "print(player2)"
   ]
  },
  {
   "cell_type": "code",
   "execution_count": 50,
   "id": "24bed6be",
   "metadata": {},
   "outputs": [],
   "source": [
    "#Initializing game on\n",
    "game_on = True"
   ]
  },
  {
   "cell_type": "code",
   "execution_count": 51,
   "id": "2595a43f",
   "metadata": {},
   "outputs": [
    {
     "name": "stdout",
     "output_type": "stream",
     "text": [
      "Round: 1\n",
      "Round: 2\n",
      "Round: 3\n",
      "Round: 4\n",
      "Round: 5\n",
      "Round: 6\n",
      "Round: 7\n",
      "Round: 8\n",
      "Round: 9\n",
      "WAR!!!!\n",
      "Round: 10\n",
      "Round: 11\n",
      "Round: 12\n",
      "Round: 13\n",
      "Round: 14\n",
      "Round: 15\n",
      "Round: 16\n",
      "Round: 17\n",
      "Round: 18\n",
      "Round: 19\n",
      "Round: 20\n",
      "Round: 21\n",
      "Round: 22\n",
      "Round: 23\n",
      "Round: 24\n",
      "Round: 25\n",
      "Round: 26\n",
      "Round: 27\n",
      "Round: 28\n",
      "Round: 29\n",
      "Round: 30\n",
      "Round: 31\n",
      "Round: 32\n",
      "Round: 33\n",
      "Round: 34\n",
      "Round: 35\n",
      "Round: 36\n",
      "Round: 37\n",
      "WAR!!!!\n",
      "Round: 38\n",
      "Round: 39\n",
      "Round: 40\n",
      "Round: 41\n",
      "Round: 42\n",
      "Round: 43\n",
      "Round: 44\n",
      "Round: 45\n",
      "Round: 46\n",
      "Round: 47\n",
      "Round: 48\n",
      "WAR!!!!\n",
      "Player1 has lost!!\n",
      "Player2 WINS!\n"
     ]
    }
   ],
   "source": [
    "round =0\n",
    "while game_on==True:\n",
    "    round += 1\n",
    "    print(f'Round: {round}')\n",
    "    \n",
    "    if len(player1.player_cards)==0:\n",
    "        print(f'{player1.playername} has lost!!')\n",
    "        print(f'{player2.playername} WINS!')\n",
    "        game_on=False\n",
    "        break\n",
    "    if len(player2.player_cards)==0:\n",
    "        print(f'{player2.playername} has lost!!')\n",
    "        print(f'{player1.playername} WINS!')\n",
    "        game_on=False\n",
    "        break  \n",
    "\n",
    "#Starting the game with empty table\n",
    "    player1_table=[]\n",
    "    player2_table=[]\n",
    "    \n",
    "#Each player deals a card:\n",
    "    player1_table.append(player1.remove_one())\n",
    "    player2_table.append(player2.remove_one())\n",
    "    \n",
    "#While at war\n",
    "    war_on=True\n",
    "    \n",
    "    while war_on==True:\n",
    "        \n",
    "        if player1_table[-1].value>player2_table[-1].value:\n",
    "            player1.add_cards(player1_table)\n",
    "            player1.add_cards(player2_table)\n",
    "            war_on=False\n",
    "        \n",
    "        elif player2_table[-1].value>player1_table[-1].value:\n",
    "            player2.add_cards(player1_table)\n",
    "            player2.add_cards(player2_table)\n",
    "            war_on=False\n",
    "            \n",
    "        else:\n",
    "            print('WAR!!!!')\n",
    "            if len(player1.player_cards)<5:\n",
    "                print(f'{player1.playername} has lost!!')\n",
    "                print(f'{player2.playername} WINS!')\n",
    "                game_on=False\n",
    "                break\n",
    "            elif len(player2.player_cards)<5:\n",
    "                print(f'{player2.playername} has lost!!')\n",
    "                print(f'{player1.playername} WINS!')\n",
    "                game_on=False\n",
    "                break\n",
    "            else:\n",
    "                for m in range(5):\n",
    "                    player1_table.append(player1.remove_one())\n",
    "                    player2_table.append(player2.remove_one())\n",
    "                      \n"
   ]
  },
  {
   "cell_type": "code",
   "execution_count": null,
   "id": "2978216b",
   "metadata": {},
   "outputs": [],
   "source": []
  }
 ],
 "metadata": {
  "kernelspec": {
   "display_name": "Python 3 (ipykernel)",
   "language": "python",
   "name": "python3"
  },
  "language_info": {
   "codemirror_mode": {
    "name": "ipython",
    "version": 3
   },
   "file_extension": ".py",
   "mimetype": "text/x-python",
   "name": "python",
   "nbconvert_exporter": "python",
   "pygments_lexer": "ipython3",
   "version": "3.9.7"
  }
 },
 "nbformat": 4,
 "nbformat_minor": 5
}
